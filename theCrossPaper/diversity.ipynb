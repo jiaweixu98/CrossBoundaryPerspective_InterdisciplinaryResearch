{
 "cells": [
  {
   "cell_type": "code",
   "execution_count": 79,
   "metadata": {},
   "outputs": [],
   "source": [
    "import numpy as np\n",
    "import pickle as pk\n",
    "# 学科对应\n",
    "index_map = {'医学': 0,\n",
    " '工程技术': 1,\n",
    " '生物学': 2,\n",
    " '化学': 3,\n",
    " '物理与天体物理': 4,\n",
    " '农林科学': 5,\n",
    " '材料科学': 6,\n",
    " '计算机科学': 7,\n",
    " '环境科学与生态学': 8,\n",
    " '地球科学': 9,\n",
    " '心理学': 10,\n",
    " '数学': 11,\n",
    " '法学': 12,\n",
    " '经济学': 13,\n",
    " '管理学': 14,\n",
    " '人文科学': 15,\n",
    " '教育学': 16,\n",
    " '综合性期刊':17}\n",
    "citationMatrix3D = pk.load(open('../../DataCrossBoundaryPerspective_InterdisciplinaryResearch/citationMatrix3D.pk', 'rb'))\n",
    "# t年学科i和j相似度矩阵，默认相似度是0\n",
    "SijtMatrix = np.zeros((2022, 18, 18))"
   ]
  },
  {
   "cell_type": "code",
   "execution_count": 80,
   "metadata": {},
   "outputs": [],
   "source": [
    "# cosine similarity\n",
    "from numpy import dot\n",
    "from numpy.linalg import norm\n",
    "def cos_similarity(a, b):\n",
    "    return dot(a, b)/(norm(a)*norm(b))"
   ]
  },
  {
   "cell_type": "code",
   "execution_count": 113,
   "metadata": {},
   "outputs": [
    {
     "name": "stderr",
     "output_type": "stream",
     "text": [
      "C:\\Users\\jiawei\\AppData\\Local\\Temp\\ipykernel_2936\\748437928.py:5: RuntimeWarning: invalid value encountered in double_scalars\n",
      "  return dot(a, b)/(norm(a)*norm(b))\n"
     ]
    }
   ],
   "source": [
    "for t in range(1800,2022):\n",
    "    for i in range(18):\n",
    "        for j in range(18):\n",
    "            # 如果是来自同一个学科，自然相似度为1。此部操作防止早年没有被引量，将同一个学科的相似度计算为nan\n",
    "            if i == j:\n",
    "                SijtMatrix[t][i][j] = 1\n",
    "            # 其他基于被引的情况计算\n",
    "            else:\n",
    "                SijtMatrix[t][i][j] = cos_similarity(citationMatrix3D[t][:,i],citationMatrix3D[t][:,j])"
   ]
  },
  {
   "cell_type": "code",
   "execution_count": 114,
   "metadata": {},
   "outputs": [],
   "source": [
    "# nan转换为0，即完全不相似\n",
    "SijtMatrix = np.nan_to_num(SijtMatrix)"
   ]
  },
  {
   "cell_type": "code",
   "execution_count": 53,
   "metadata": {},
   "outputs": [
    {
     "data": {
      "text/plain": [
       "array([1.2072762e+07, 3.1900800e+05, 1.1073890e+06, 2.9940700e+05,\n",
       "       2.0176000e+04, 2.6244300e+05, 6.1565000e+04, 2.4538000e+04,\n",
       "       9.8136000e+04, 1.2129000e+04, 4.0244300e+05, 1.0871000e+04,\n",
       "       5.9836000e+04, 1.1391000e+04, 1.8153000e+04, 2.0714000e+04,\n",
       "       2.2588000e+04, 8.0353100e+05])"
      ]
     },
     "execution_count": 53,
     "metadata": {},
     "output_type": "execute_result"
    }
   ],
   "source": [
    "citationMatrix3D[2015][:,index_map['医学']]"
   ]
  },
  {
   "cell_type": "code",
   "execution_count": 40,
   "metadata": {},
   "outputs": [
    {
     "name": "stdout",
     "output_type": "stream",
     "text": [
      "[0.64137035 0.35340638 0.06072094 0.1459871  0.86157017 0.94536146\n",
      " 0.206066   0.77332546 0.43652613 0.50997564 0.90343132 0.8170681\n",
      " 0.42224164 0.03222137 0.93095793 0.59724345 0.38089111 0.33353626]\n",
      "[0.64137035 0.25534644 0.86959764 0.36021707 0.51855977 0.75907367\n",
      " 0.14343004 0.05639009 0.72607369 0.39563743 0.83623641 0.71945315\n",
      " 0.84791179 0.70711114 0.0070699  0.81271658 0.1762977  0.74147884]\n"
     ]
    }
   ],
   "source": [
    "\n",
    "# 0-2年的引用关系。\n",
    "citationMatrix3D = np.random.rand(3,18,18)\n",
    "citationMatrix3D[2] = np.zeros((18,18))\n",
    "# 学科0的施引情况\n",
    "print(citationMatrix3D[0][0])\n",
    "# 学科0的被引情况\n",
    "print(citationMatrix3D[0][:,0])"
   ]
  }
 ],
 "metadata": {
  "kernelspec": {
   "display_name": "base",
   "language": "python",
   "name": "python3"
  },
  "language_info": {
   "codemirror_mode": {
    "name": "ipython",
    "version": 3
   },
   "file_extension": ".py",
   "mimetype": "text/x-python",
   "name": "python",
   "nbconvert_exporter": "python",
   "pygments_lexer": "ipython3",
   "version": "3.9.13"
  },
  "orig_nbformat": 4
 },
 "nbformat": 4,
 "nbformat_minor": 2
}
