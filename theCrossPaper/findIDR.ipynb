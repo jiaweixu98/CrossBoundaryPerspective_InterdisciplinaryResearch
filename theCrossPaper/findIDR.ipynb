{
 "cells": [
  {
   "cell_type": "code",
   "execution_count": 1,
   "metadata": {},
   "outputs": [],
   "source": [
    "import pickle as pk\n",
    "from tqdm import tqdm\n",
    "import numpy as np\n",
    "index_map = {'医学': 0,\n",
    " '工程技术': 1,\n",
    " '生物学': 2,\n",
    " '化学': 3,\n",
    " '物理与天体物理': 4,\n",
    " '农林科学': 5,\n",
    " '材料科学': 6,\n",
    " '计算机科学': 7,\n",
    " '环境科学与生态学': 8,\n",
    " '地球科学': 9,\n",
    " '心理学': 10,\n",
    " '数学': 11,\n",
    " '法学': 12,\n",
    " '经济学': 13,\n",
    " '管理学': 14,\n",
    " '人文科学': 15,\n",
    " '教育学': 16,\n",
    " '综合性期刊':17}"
   ]
  },
  {
   "cell_type": "code",
   "execution_count": 2,
   "metadata": {},
   "outputs": [
    {
     "name": "stderr",
     "output_type": "stream",
     "text": [
      "100%|██████████| 33613683/33613683 [00:06<00:00, 5472590.55it/s]\n"
     ]
    }
   ],
   "source": [
    "# 跨学科程度\n",
    "from math import isnan\n",
    "paper2idDegree = pk.load(open('../../DataCrossBoundaryPerspective_InterdisciplinaryResearch/paper2idDegree.pk', 'rb'))\n",
    "for k,v in tqdm(paper2idDegree.items()):\n",
    "    if isnan(v):\n",
    "        paper2idDegree[k] = 0"
   ]
  },
  {
   "cell_type": "code",
   "execution_count": 3,
   "metadata": {},
   "outputs": [],
   "source": [
    "# 参考文献数量\n",
    "referenceCounter = pk.load(open('../../DataCrossBoundaryPerspective_InterdisciplinaryResearch/referenceCounter.pk','rb'))"
   ]
  },
  {
   "cell_type": "code",
   "execution_count": 4,
   "metadata": {},
   "outputs": [],
   "source": [
    "#年份\n",
    "paperYear = pk.load(open('../../DataCrossBoundaryPerspective_InterdisciplinaryResearch/paperYear.pk', 'rb'))"
   ]
  },
  {
   "cell_type": "code",
   "execution_count": 5,
   "metadata": {},
   "outputs": [],
   "source": [
    "#团队规模\n",
    "paperAuthorNum = pk.load(open('../../DataCrossBoundaryPerspective_InterdisciplinaryResearch/paperAuthorNum.pk', 'rb'))"
   ]
  },
  {
   "cell_type": "code",
   "execution_count": 6,
   "metadata": {},
   "outputs": [],
   "source": [
    "# 期刊学科对应\n",
    "magid2bigcategory = pk.load(open('../../DataCrossBoundaryPerspective_InterdisciplinaryResearch/magid2bigcategory.pk', 'rb'))"
   ]
  },
  {
   "cell_type": "code",
   "execution_count": 7,
   "metadata": {},
   "outputs": [],
   "source": [
    "# 这里是我们考虑的文献名录，约3000万篇。我们只考虑这3000多万篇文献中的引用关系。\n",
    "paperSet = pk.load(open('../../DataCrossBoundaryPerspective_InterdisciplinaryResearch/paperJournalsetCas.pk', 'rb'))"
   ]
  },
  {
   "cell_type": "code",
   "execution_count": 8,
   "metadata": {},
   "outputs": [],
   "source": [
    "# 文献期刊对应\n",
    "paper2journalid = pk.load(open('../../DataCrossBoundaryPerspective_InterdisciplinaryResearch/paper2journalid.pk', 'rb'))"
   ]
  },
  {
   "cell_type": "code",
   "execution_count": 9,
   "metadata": {},
   "outputs": [
    {
     "name": "stderr",
     "output_type": "stream",
     "text": [
      "100%|██████████| 33613683/33613683 [01:28<00:00, 379077.56it/s]\n"
     ]
    }
   ],
   "source": [
    "# 计算每年、每个学科的平均跨学科程度\n",
    "year_field_iddegree_list = {}\n",
    "for paper, iddegree in tqdm(paper2idDegree.items()):\n",
    "    try:\n",
    "        if paperYear[paper] not in year_field_iddegree_list:\n",
    "            year_field_iddegree_list[paperYear[paper]] = {index_map[magid2bigcategory[paper2journalid[paper]]]:[iddegree]}\n",
    "        else:\n",
    "            if index_map[magid2bigcategory[paper2journalid[paper]]] not in year_field_iddegree_list[paperYear[paper]]:\n",
    "                year_field_iddegree_list[paperYear[paper]][index_map[magid2bigcategory[paper2journalid[paper]]]] = [iddegree]\n",
    "            else:\n",
    "                year_field_iddegree_list[paperYear[paper]][index_map[magid2bigcategory[paper2journalid[paper]]]].append(iddegree)\n",
    "    except:\n",
    "        pass"
   ]
  },
  {
   "cell_type": "code",
   "execution_count": 10,
   "metadata": {},
   "outputs": [
    {
     "name": "stderr",
     "output_type": "stream",
     "text": [
      "100%|██████████| 163/163 [00:06<00:00, 24.54it/s]\n"
     ]
    }
   ],
   "source": [
    "for year,field_list in tqdm(year_field_iddegree_list.items()):\n",
    "    for field, iddegreeList in field_list.items():\n",
    "        year_field_iddegree_list[year][field] = np.array(iddegreeList)"
   ]
  },
  {
   "cell_type": "code",
   "execution_count": 11,
   "metadata": {},
   "outputs": [],
   "source": [
    "# 计算平均值\n",
    "# year_field_avgiddegree = {}\n",
    "# for year,field_list in tqdm(year_field_iddegree_list.items()):\n",
    "#     year_field_avgiddegree[year] = {}\n",
    "#     for field, iddegreeList in field_list.items():\n",
    "#         year_field_avgiddegree[year][field] = sum(iddegreeList)/len(iddegreeList)"
   ]
  },
  {
   "cell_type": "code",
   "execution_count": 12,
   "metadata": {},
   "outputs": [],
   "source": [
    "# 计算世界各年的平均值\n",
    "# year_iddegree_list = {}\n",
    "# for paper, iddegree in tqdm(paper2idDegree.items()):\n",
    "#     try:\n",
    "#         if paperYear[paper] not in year_iddegree_list:\n",
    "#             year_iddegree_list[paperYear[paper]] = [iddegree]\n",
    "#         else:\n",
    "#             year_iddegree_list[paperYear[paper]].append(iddegree)\n",
    "#     except:\n",
    "#         continue"
   ]
  },
  {
   "cell_type": "code",
   "execution_count": 13,
   "metadata": {},
   "outputs": [],
   "source": [
    "# year_avg_iddegree = {}\n",
    "# for year, iddegree_list in year_iddegree_list.items():\n",
    "#     year_avg_iddegree[year] = sum(iddegree_list)/len(iddegree_list)\n",
    "# year_avg_iddegree"
   ]
  },
  {
   "cell_type": "code",
   "execution_count": 14,
   "metadata": {},
   "outputs": [],
   "source": [
    "# pk.dump(year_avg_iddegree,open('../../DataCrossBoundaryPerspective_InterdisciplinaryResearch/year_avg_iddegree.pk', 'wb'))"
   ]
  },
  {
   "cell_type": "code",
   "execution_count": 15,
   "metadata": {},
   "outputs": [],
   "source": [
    "# pk.dump(year_field_avgiddegree,open('../../DataCrossBoundaryPerspective_InterdisciplinaryResearch/year_field_avgiddegree.pk', 'wb'))"
   ]
  },
  {
   "attachments": {},
   "cell_type": "markdown",
   "metadata": {},
   "source": [
    "下面研究管理学领域的情况"
   ]
  },
  {
   "cell_type": "code",
   "execution_count": 16,
   "metadata": {},
   "outputs": [],
   "source": [
    "# 主要负责文献：开始年份\n",
    "def StartYearpublist(publist, Typestr='both'):\n",
    "    # yearPublist  {2023:{'rank1':set(), 'rankLast':set(), 'others':set() }, ...}\n",
    "    if Typestr == 'both':\n",
    "        for year, yearpublist in publist.items():\n",
    "            if len(yearpublist['rank1']) > 0 or len(yearpublist['rankLast']) > 0:\n",
    "                return int(year)\n",
    "    elif Typestr == 'rank1':\n",
    "        for year, yearpublist in publist.items():\n",
    "            if len(yearpublist['rank1']) > 0:\n",
    "                return int(year)\n",
    "    elif Typestr == 'rankLast':\n",
    "        for year, yearpublist in publist.items():\n",
    "            if len(yearpublist['rankLast']) > 0:\n",
    "                return int(year)\n",
    "    return -1\n",
    "# 主要负责文献：休止年份\n",
    "def EndYearpublist(publist, Typestr='both'):\n",
    "    if Typestr == 'both':\n",
    "        for year, yearpublist in sorted(publist.items(), reverse=True):\n",
    "            if len(yearpublist['rank1']) > 0 or len(yearpublist['rankLast']) > 0:\n",
    "                return int(year)\n",
    "    elif Typestr == 'rank1':\n",
    "        for year, yearpublist in sorted(publist.items(), reverse=True):\n",
    "            if len(yearpublist['rank1']) > 0:\n",
    "                return int(year)\n",
    "    elif Typestr == 'rankLast':\n",
    "        for year, yearpublist in sorted(publist.items(), reverse=True):\n",
    "            if len(yearpublist['rankLast']) > 0:\n",
    "                return int(year)\n",
    "    return -1\n",
    "# 主要负责文献：年份跨度\n",
    "def SpanYearpublist(publist, Typestr='both'):\n",
    "    return EndYearpublist(publist,Typestr) - StartYearpublist(publist,Typestr)\n",
    "\n",
    "# 主要负责文献：真实年份跨度\n",
    "def TrueSpanYearpublist(publist, Typestr='both'):\n",
    "    # yearPublist  {2023:{'rank1':set(), 'rankLast':set(), 'others':set() }, ...}\n",
    "    truthSpan = 0\n",
    "    if Typestr == 'both':\n",
    "        for _, yearpublist in publist.items():\n",
    "            if len(yearpublist['rank1']) > 0 or len(yearpublist['rankLast']) > 0:\n",
    "                truthSpan += 1\n",
    "    elif Typestr == 'rank1':\n",
    "        for _, yearpublist in publist.items():\n",
    "            if len(yearpublist['rank1']) > 0:\n",
    "                truthSpan += 1\n",
    "    elif Typestr == 'rankLast':\n",
    "        for _, yearpublist in publist.items():\n",
    "            if len(yearpublist['rankLast']) > 0:\n",
    "                truthSpan += 1\n",
    "    return truthSpan"
   ]
  },
  {
   "cell_type": "code",
   "execution_count": 17,
   "metadata": {},
   "outputs": [],
   "source": [
    "# 主要参与者CAS学科BreakThrough的时间点(采用中科院分区), 参数cutYear是纳入观察的年数；修改该函数，只关心both（关键作者）、指定学科；输出跳转作品及以前的全部关键文献，没有跳转过就输出0\n",
    "def BreakthroughForCAS_IDRidentify(publist, cutYear=100, initialSpan=1, TypeStr='both',Targetfield='管理学'):\n",
    "    # yearPublist  {2023:{'rank1':set(), 'rankLast':set(), 'others':set() }, ...}\n",
    "    # cutYear是控制的年数，必须比initialSpan大1或以上\n",
    "    if cutYear <= initialSpan:\n",
    "        raise('初始学科年份与生涯长度不匹配')\n",
    "    initialSet = set()\n",
    "    yearid = 0\n",
    "    corepaperlist = []\n",
    "    if TypeStr == 'both':\n",
    "        for _, yearpublist in publist.items():\n",
    "            # 是第一作者或末位作者\n",
    "            if len(yearpublist['rank1']) > 0 or len(yearpublist['rankLast']) > 0:\n",
    "                yearid += 1\n",
    "                # 如果已经到了cutYear了，直接结束循环（到此，强行结束该研究者的职业生涯）。\n",
    "                if yearid > cutYear:\n",
    "                    break\n",
    "                # 处女作之年，要初始化\n",
    "                if len(initialSet) == 0 or yearid <= initialSpan:\n",
    "                    for rank1paper in yearpublist['rank1']:\n",
    "                        field = magid2bigcategory[paper2journalid[rank1paper]]\n",
    "                        if field != '综合性期刊':\n",
    "                            initialSet.add(field)\n",
    "                            corepaperlist.append(rank1paper)\n",
    "                    for rankLastpaper in yearpublist['rankLast']:\n",
    "                        field = magid2bigcategory[paper2journalid[rankLastpaper]]\n",
    "                        if field != '综合性期刊':\n",
    "                            initialSet.add(field)\n",
    "                            corepaperlist.append(rankLastpaper)\n",
    "                # 非处女作之年，看是否符合\"转向标准\"\n",
    "                else:\n",
    "                    if Targetfield not in initialSet:\n",
    "                        return '初始学科非'+Targetfield\n",
    "                    # 下面可以保证是我们指定的Targetfield\n",
    "                    for rank1paper in yearpublist['rank1']:\n",
    "                        # 对这个 rank1paper 默认是转向文献，直到有一个熟悉的学科出现，才不是。\n",
    "                        flag = 1\n",
    "                        field = magid2bigcategory[paper2journalid[rank1paper]]\n",
    "                        # 突破的条件：这本期刊所有的学科都是新的（nonBreakthroughJournal里的不算）；\n",
    "                        # 如果领域是出现过的，或者是跨学科领域，那么认为不是突破性学科。\n",
    "                        if (field in initialSet) or (field == '综合性期刊') :\n",
    "                            flag = 0\n",
    "                            corepaperlist.append(rank1paper)\n",
    "                        # 如果全部过了一遍，没有老东西出现就承认是转向了，这一年就是转向年；否则继续去看下一年的文章是否是转向的\n",
    "                        if flag == 1:\n",
    "                            # 第n次尝试后终于跨界的标识（0表示是从一而终）；核心作品id list（时间顺序）；跨界作品id\n",
    "                            return yearid, corepaperlist, rank1paper\n",
    "                    for rankLastpaper in yearpublist['rankLast']:\n",
    "                        flag = 1\n",
    "                        field = magid2bigcategory[paper2journalid[rankLastpaper]]\n",
    "                        if (field in initialSet) or (field == '综合性期刊') :\n",
    "                            flag = 0\n",
    "                            corepaperlist.append(rankLastpaper)\n",
    "                        if flag == 1:\n",
    "                            return yearid, corepaperlist, rankLastpaper\n",
    "    \n",
    "    \n",
    "    if Targetfield not in initialSet:\n",
    "        return '初始学科非'+Targetfield\n",
    "    # 如果所有的文章都看完了，还没有转向，说明这个人一辈子都没有突破自己第一年的情况；输出0，即没有转向过。\n",
    "    return 0, corepaperlist"
   ]
  },
  {
   "cell_type": "code",
   "execution_count": 18,
   "metadata": {},
   "outputs": [],
   "source": [
    "# START_YAER = 1801\n",
    "# END_YAER = 2021\n",
    "# cutyearCount = 2\n",
    "# notmoveAuthorIDandPapers = {}\n",
    "# moveAuthorIDandPapersandBreak = {}\n",
    "# import jsonlines\n",
    "# with jsonlines.open('../../DataCrossBoundaryPerspective_InterdisciplinaryResearch/activeAuthorSeqForCAS.jsonl', mode='r') as reader:\n",
    "#     for lines in tqdm(reader):\n",
    "#         for authorid, publist in lines.items():\n",
    "#             Startyear = StartYearpublist(publist, 'both')\n",
    "#             TrueSpan = TrueSpanYearpublist(publist, 'both')\n",
    "#             if ((START_YAER-1) < Startyear < (END_YAER+1)) and ( (cutyearCount-1) < TrueSpan ):\n",
    "#                 temp = BreakthroughForCAS_IDRidentify(publist,cutYear=100, initialSpan=1,TypeStr='both',Targetfield='管理学')\n",
    "#                 # 如果不是targetfield，不管\n",
    "#                 if type(temp) == type('1'):\n",
    "#                     continue\n",
    "#                 elif temp[0] == 0:\n",
    "#                     # 没有跳转，仅记录核心集\n",
    "#                     notmoveAuthorIDandPapers[authorid] = temp[1]\n",
    "#                 #成功跳转了的\n",
    "#                 else:\n",
    "#                     # 跳转了，核心集，跳转文献\n",
    "#                     moveAuthorIDandPapersandBreak[authorid]= [temp[1],temp[2]]"
   ]
  },
  {
   "cell_type": "code",
   "execution_count": 19,
   "metadata": {},
   "outputs": [],
   "source": [
    "# len(notmoveAuthorIDandPapers)"
   ]
  },
  {
   "cell_type": "code",
   "execution_count": 20,
   "metadata": {},
   "outputs": [],
   "source": [
    "#跨学科性数值转换为对应年份、对应学科的百分位数 value2percentile\n",
    "def IDRvalue2percentile(paper):\n",
    "    year = paperYear[paper]\n",
    "    field = index_map[magid2bigcategory[paper2journalid[paper]]]\n",
    "    return sum(year_field_iddegree_list[year][field] < paper2idDegree[paper]) /len(year_field_iddegree_list[year][field])"
   ]
  },
  {
   "cell_type": "code",
   "execution_count": 21,
   "metadata": {},
   "outputs": [],
   "source": [
    "# 突破文献在新学科的百分位数，原学科发文的百分位数, 突破文献在原学科发文的百分位数\n",
    "# breakPaper2initialPaper = {}\n",
    "# for k,v in tqdm(moveAuthorIDandPapersandBreak.items()):\n",
    "#     # v[1]是跳转文献\n",
    "#     sumPaperIDR = 0\n",
    "#     for paper in v[0]:\n",
    "#         sumPaperIDR += IDRvalue2percentile(paper)\n",
    "#     breakPaper2initialPaper[k] = [IDRvalue2percentile(v[1]),sumPaperIDR/len(v[0])]"
   ]
  },
  {
   "cell_type": "code",
   "execution_count": 22,
   "metadata": {},
   "outputs": [],
   "source": [
    "# # 增加跳转学科，在管理学中相对百分位数\n",
    "# for k,v in tqdm(moveAuthorIDandPapersandBreak.items()):\n",
    "#     # v[1]是跳转文献\n",
    "#     breakPaper2initialPaper[k].append(sum(year_field_iddegree_list[paperYear[v[1]]][index_map['管理学']] < paper2idDegree[v[1]]) /len(year_field_iddegree_list[paperYear[v[1]]][index_map['管理学']]))"
   ]
  },
  {
   "cell_type": "code",
   "execution_count": 23,
   "metadata": {},
   "outputs": [],
   "source": [
    "# 把这个东西绘制个箱线图，做个对比；希望说明转向的这个，跨学科程度高很多。\n",
    "# pk.dump(breakPaper2initialPaper,open('../../DataCrossBoundaryPerspective_InterdisciplinaryResearch/breakPaper2initialPaper.pk', 'wb'))"
   ]
  },
  {
   "cell_type": "code",
   "execution_count": 24,
   "metadata": {},
   "outputs": [
    {
     "name": "stderr",
     "output_type": "stream",
     "text": [
      "5866212it [01:45, 55791.66it/s] \n"
     ]
    }
   ],
   "source": [
    "# 从这中间抽取所有可能的管理学领域研究者及其发文序列\n",
    "START_YAER = 1801\n",
    "END_YAER = 2021\n",
    "cutyearCount = 2\n",
    "author2publist = {}\n",
    "import jsonlines\n",
    "with jsonlines.open('../../DataCrossBoundaryPerspective_InterdisciplinaryResearch/activeAuthorSeqForCAS.jsonl', mode='r') as reader:\n",
    "    for lines in tqdm(reader):\n",
    "        for authorid, publist in lines.items():\n",
    "            Startyear = StartYearpublist(publist, 'both')\n",
    "            TrueSpan = TrueSpanYearpublist(publist, 'both')\n",
    "            # 这里实际上对时间没有任何限制，只是对其是否有足够的生涯长度（两年核心发文者经历）进行了识别。\n",
    "            if ((START_YAER-1) < Startyear < (END_YAER+1)) and ( (cutyearCount-1) < TrueSpan ):\n",
    "                temp = BreakthroughForCAS_IDRidentify(publist,cutYear=100, initialSpan=1,TypeStr='both',Targetfield='管理学')\n",
    "                # 如果不是targetfield，不管\n",
    "                if type(temp) == type('1'):\n",
    "                    continue\n",
    "                else:\n",
    "                    author2publist[authorid]=publist"
   ]
  },
  {
   "cell_type": "code",
   "execution_count": 25,
   "metadata": {},
   "outputs": [],
   "source": [
    "# 这里当然是日历年\n",
    "author_startyear_endyear = {}\n",
    "for authorid, publist in author2publist.items():\n",
    "    author_startyear_endyear[authorid] = [int(sorted(publist.items())[0][0]),int(sorted(publist.items())[-1][0])]"
   ]
  },
  {
   "cell_type": "code",
   "execution_count": 26,
   "metadata": {},
   "outputs": [
    {
     "data": {
      "text/plain": [
       "[2000, 2021]"
      ]
     },
     "execution_count": 26,
     "metadata": {},
     "output_type": "execute_result"
    }
   ],
   "source": [
    "\n",
    "author_startyear_endyear['2122573570']"
   ]
  },
  {
   "cell_type": "code",
   "execution_count": 27,
   "metadata": {},
   "outputs": [],
   "source": [
    "def chooseSampleTandTime(leftTime,rightTime,author2publist):\n",
    "    authorlist = []\n",
    "    for authorid, publist in author2publist.items():\n",
    "        Startyear = StartYearpublist(publist, 'both')\n",
    "        # 时间窗口内必须可观察到其初始学科，基本符合\n",
    "        if Startyear < leftTime or Startyear>rightTime:\n",
    "            continue\n",
    "        if author_startyear_endyear[authorid][0]<= leftTime and author_startyear_endyear[authorid][1]>= rightTime:\n",
    "            authorlist.append(authorid)\n",
    "    return authorlist"
   ]
  },
  {
   "cell_type": "code",
   "execution_count": 28,
   "metadata": {},
   "outputs": [],
   "source": [
    "# for lefttime in tqdm(range(2000,2012)):\n",
    "#     for righttime in range(1990,2016):\n",
    "#         if righttime-lefttime<5:\n",
    "#             continue\n",
    "#         if len(chooseSampleTandTime(lefttime,righttime,author2publist))< 1000:\n",
    "#             continue\n",
    "#         else:\n",
    "#             print(lefttime, righttime, len(chooseSampleTandTime(lefttime,righttime,author2publist)))"
   ]
  },
  {
   "attachments": {},
   "cell_type": "markdown",
   "metadata": {},
   "source": [
    "生涯开始年份早于2005，结束年份晚于2015。"
   ]
  },
  {
   "cell_type": "code",
   "execution_count": 29,
   "metadata": {},
   "outputs": [],
   "source": [
    "cited2citing = pk.load(open('../../DataCrossBoundaryPerspective_InterdisciplinaryResearch/cited2citing.pk', 'rb'))"
   ]
  },
  {
   "cell_type": "code",
   "execution_count": 30,
   "metadata": {},
   "outputs": [],
   "source": [
    "# did author id\n",
    "authorid = chooseSampleTandTime(2005,2015,author2publist)"
   ]
  },
  {
   "cell_type": "code",
   "execution_count": 31,
   "metadata": {},
   "outputs": [],
   "source": [
    "# pk.dump(authorid,open('../../DataCrossBoundaryPerspective_InterdisciplinaryResearch/authorid.pk', 'wb'))\n",
    "# authorid = pk.load(open('../../DataCrossBoundaryPerspective_InterdisciplinaryResearch/authorid.pk', 'rb'))"
   ]
  },
  {
   "cell_type": "code",
   "execution_count": 32,
   "metadata": {},
   "outputs": [],
   "source": [
    "# # 每个author是否得到了treat\n",
    "# author_istreat = {}\n",
    "# author_treatyear = {}\n",
    "# for author, publist in author2publist.items():\n",
    "#     # 是我们需要的研究者\n",
    "#     if author in authorid:\n",
    "#         temp = BreakthroughForCAS_IDRidentify(publist,cutYear=100, initialSpan=1,TypeStr='both',Targetfield='管理学')\n",
    "#                 # 如果不是targetfield，不管\n",
    "#         if type(temp) == type('1'):\n",
    "#             print('wrong?')\n",
    "#             continue\n",
    "#         elif temp[0] == 0:\n",
    "#                     # 没有跳转，仅记录核心集\n",
    "#             # notmoveAuthorIDandPapers[authorid] = temp[1]\n",
    "#             author_istreat[author] = 0\n",
    "#             author_treatyear[author] = 0\n",
    "#                 #成功跳转了的\n",
    "#         else:\n",
    "#                     # 跳转了，核心集，跳转文献\n",
    "#             # moveAuthorIDandPapersandBreak[authorid]= [temp[1],temp[2]]\n",
    "#             if paperYear[temp[2]] >2015:\n",
    "#                 author_istreat[author] = 0\n",
    "#                 author_treatyear[author] = 0\n",
    "#             else:\n",
    "#                 author_istreat[author] = 1\n",
    "#                 author_treatyear[author] = paperYear[temp[2]]"
   ]
  },
  {
   "cell_type": "code",
   "execution_count": 33,
   "metadata": {},
   "outputs": [],
   "source": [
    "# author_istreat['2122573570']"
   ]
  },
  {
   "cell_type": "code",
   "execution_count": 34,
   "metadata": {},
   "outputs": [],
   "source": [
    "# pk.dump(author_istreat,open('../../DataCrossBoundaryPerspective_InterdisciplinaryResearch/author_istreat.pk', 'wb'))\n",
    "# pk.dump(author_treatyear,open('../../DataCrossBoundaryPerspective_InterdisciplinaryResearch/author_treatyear.pk', 'wb'))"
   ]
  },
  {
   "cell_type": "code",
   "execution_count": 35,
   "metadata": {},
   "outputs": [],
   "source": [
    "def paper5yearcitationSumNum(paperset,year):\n",
    "    '''\n",
    "    需要一个文献集合\n",
    "    '''\n",
    "    if len(paperset) == 0:\n",
    "        return 0\n",
    "    citation_count = 0\n",
    "    for paper in paperset:\n",
    "        try:\n",
    "            citation_list = cited2citing[paper]\n",
    "        except:\n",
    "            continue\n",
    "        for citation in citation_list:\n",
    "            try:\n",
    "                # 差距小于6年\n",
    "                if (paperYear[citation] - year) <6:\n",
    "                    citation_count += 1\n",
    "            except:\n",
    "                continue\n",
    "    return citation_count\n",
    "def paperCollaboratorsSumNum(paperset):\n",
    "    '''\n",
    "    需要一个文献集合\n",
    "    '''\n",
    "    if len(paperset) == 0:\n",
    "        return 0\n",
    "    collaborator_count = 0\n",
    "    for paper in paperset:\n",
    "        try:\n",
    "            collaborator_count += paperAuthorNum[paper]\n",
    "        except:\n",
    "            continue\n",
    "    return collaborator_count"
   ]
  },
  {
   "attachments": {},
   "cell_type": "markdown",
   "metadata": {},
   "source": [
    "核心因变量"
   ]
  },
  {
   "cell_type": "code",
   "execution_count": 36,
   "metadata": {},
   "outputs": [],
   "source": [
    "# 每年的，总发文量、核心发文量\n",
    "author_year_allpubNum = {}\n",
    "author_year_corepubNum = {}\n",
    "# 该年发表的期刊的质量（被引量）\n",
    "author_year_allpuball5yearcitationNum = {}\n",
    "author_year_corepuball5yearcitationNum = {}\n",
    "# 总被引量/总篇数即为平均被引量\n",
    "author_year_allpubAVG5yearcitationNum = {}\n",
    "author_year_corepubAVG5yearcitationNum = {}\n",
    "# 团队数量规模\n",
    "author_year_allpuballCollaboratorsNum = {}\n",
    "author_year_corepuballCollaboratorsNum = {}\n",
    "# 除以总篇数即为平均规模\n",
    "author_year_allpubAVGCollaboratorsNum = {}\n",
    "author_year_corepubAVGCollaboratorsNum = {}\n",
    "\n",
    "StartYear=2005\n",
    "EndYear=2015\n",
    "for author, publist in author2publist.items():\n",
    "    # yearPublist  {2023:{'rank1':list(), 'rankLast':list(), 'others':list() }, ...}\n",
    "    if author in authorid:\n",
    "        for year, yearPublist in publist.items():\n",
    "            year = int(year)\n",
    "            if StartYear-1< year < EndYear+1:\n",
    "                # 总发文量\n",
    "                if author not in author_year_allpubNum:\n",
    "                    author_year_allpubNum[author]={year:len(yearPublist['rank1'])+len(yearPublist['rankLast'])+len(yearPublist['others'])}\n",
    "                else:\n",
    "                    author_year_allpubNum[author][year] = len(yearPublist['rank1'])+len(yearPublist['rankLast'])+len(yearPublist['others'])\n",
    "                # 核心发文量\n",
    "                if author not in author_year_corepubNum:\n",
    "                    author_year_corepubNum[author]={year:len(yearPublist['rank1'])+len(yearPublist['rankLast'])}\n",
    "                else:\n",
    "                    author_year_corepubNum[author][year] = len(yearPublist['rank1'])+len(yearPublist['rankLast'])\n",
    "                # 总被引量\n",
    "                if author not in author_year_allpuball5yearcitationNum:\n",
    "                    author_year_allpuball5yearcitationNum[author]={year:paper5yearcitationSumNum(yearPublist['rank1']+yearPublist['others']+yearPublist['rankLast'],year)}\n",
    "                else:\n",
    "                    author_year_allpuball5yearcitationNum[author][year] = paper5yearcitationSumNum(yearPublist['rank1']+yearPublist['others']+yearPublist['rankLast'],year)\n",
    "                # 核心文献被引量\n",
    "                if author not in author_year_corepuball5yearcitationNum:\n",
    "                    author_year_corepuball5yearcitationNum[author]={year:paper5yearcitationSumNum(yearPublist['rank1']+yearPublist['rankLast'],year)}\n",
    "                else:\n",
    "                    author_year_corepuball5yearcitationNum[author][year] = paper5yearcitationSumNum(yearPublist['rank1']+yearPublist['rankLast'],year)\n",
    "                # 团队规模\n",
    "                if author not in author_year_allpuballCollaboratorsNum:\n",
    "                    author_year_allpuballCollaboratorsNum[author]={year:paperCollaboratorsSumNum(yearPublist['rank1']+yearPublist['others']+yearPublist['rankLast'])}\n",
    "                else:\n",
    "                    author_year_allpuballCollaboratorsNum[author][year] = paperCollaboratorsSumNum(yearPublist['rank1']+yearPublist['others']+yearPublist['rankLast'])\n",
    "                # 核心文献团队规模\n",
    "                if author not in author_year_corepuballCollaboratorsNum:\n",
    "                    author_year_corepuballCollaboratorsNum[author]={year:paperCollaboratorsSumNum(yearPublist['rank1']+yearPublist['rankLast'])}\n",
    "                else:\n",
    "                    author_year_corepuballCollaboratorsNum[author][year] = paperCollaboratorsSumNum(yearPublist['rank1']+yearPublist['rankLast'])"
   ]
  },
  {
   "cell_type": "code",
   "execution_count": null,
   "metadata": {},
   "outputs": [],
   "source": [
    "# 每年的，总发文量、核心发文量\n",
    "# author_year_allpubNum = {}\n",
    "# author_year_corepubNum = {}\n",
    "# 该年发表的期刊的质量（被引量）\n",
    "# author_year_allpuball5yearcitationNum = {}\n",
    "# author_year_corepuball5yearcitationNum = {}\n",
    "# 总被引量/总篇数即为平均被引量\n",
    "# author_year_allpubAVG5yearcitationNum = {}\n",
    "# author_year_corepubAVG5yearcitationNum = {}\n",
    "# 团队数量规模\n",
    "# author_year_allpuballCollaboratorsNum = {}\n",
    "# author_year_corepuballCollaboratorsNum = {}\n",
    "# 除以总篇数即为平均规模\n",
    "# author_year_allpubAVGCollaboratorsNum = {}\n",
    "# author_year_corepubAVGCollaboratorsNum = {}\n",
    "pk.dump(author_year_allpubNum,open('../../DataCrossBoundaryPerspective_InterdisciplinaryResearch/author_year_allpubNum.pk', 'wb'))\n",
    "pk.dump(author_year_corepubNum,open('../../DataCrossBoundaryPerspective_InterdisciplinaryResearch/author_year_corepubNum.pk', 'wb'))\n",
    "pk.dump(author_year_allpuball5yearcitationNum,open('../../DataCrossBoundaryPerspective_InterdisciplinaryResearch/author_year_allpuball5yearcitationNum.pk', 'wb'))\n",
    "pk.dump(author_year_corepuball5yearcitationNum,open('../../DataCrossBoundaryPerspective_InterdisciplinaryResearch/author_year_corepuball5yearcitationNum.pk', 'wb'))\n",
    "pk.dump(author_year_allpuballCollaboratorsNum,open('../../DataCrossBoundaryPerspective_InterdisciplinaryResearch/author_year_allpuballCollaboratorsNum.pk', 'wb'))\n",
    "pk.dump(author_year_corepuballCollaboratorsNum,open('../../DataCrossBoundaryPerspective_InterdisciplinaryResearch/author_year_corepuballCollaboratorsNum.pk', 'wb'))"
   ]
  },
  {
   "attachments": {},
   "cell_type": "markdown",
   "metadata": {},
   "source": [
    "核心协变量"
   ]
  },
  {
   "cell_type": "code",
   "execution_count": null,
   "metadata": {},
   "outputs": [],
   "source": [
    "# 作者生涯长度!!!!!\n",
    "author_year_careerLength = {}\n",
    "# 作者当年跨学科程度的百分位数（平均数）!!!!!\n",
    "author_year_IDRpercentile ={}\n",
    "# 滞后一期的累计被引量\n",
    "author_year_cumuCitationNumLagged1 = {}\n",
    "# 滞后一期的累计发文数\n",
    "author_year_cumuPaperNumLagged1 = {}\n",
    "# 滞后一期的累计合作者人次\n",
    "author_year_cumuCollaboratorNumLagged1 = {}\n",
    "# 总参考文献数量!!!!\n",
    "author_year_totalreferences = {}\n",
    "#做一个除法可以得到平均参考文献数量\n",
    "author_year_AVGreferences = {}"
   ]
  },
  {
   "cell_type": "code",
   "execution_count": null,
   "metadata": {},
   "outputs": [],
   "source": [
    "def paperavgIDR(paperset,year):\n",
    "    IDRsum = 0\n",
    "    paperCount = 0\n",
    "    for paper in paperset:\n",
    "        try:\n",
    "            IDRsum += IDRvalue2percentile(paper)\n",
    "            paperCount += 1\n",
    "        except:\n",
    "            continue\n",
    "    try:\n",
    "        return IDRsum/paperCount\n",
    "    except:\n",
    "        return 0"
   ]
  },
  {
   "cell_type": "code",
   "execution_count": null,
   "metadata": {},
   "outputs": [],
   "source": [
    "def refsum(paperset):\n",
    "    countSum = 0\n",
    "    for paper in paperset:\n",
    "        try:\n",
    "            countSum += referenceCounter[paper]\n",
    "        except:\n",
    "            continue\n",
    "    return countSum"
   ]
  },
  {
   "cell_type": "code",
   "execution_count": null,
   "metadata": {},
   "outputs": [],
   "source": [
    "StartYear=2005\n",
    "EndYear=2015\n",
    "for author, publist in author2publist.items():\n",
    "    # yearPublist  {2023:{'rank1':list(), 'rankLast':list(), 'others':list() }, ...}\n",
    "    if author in authorid:\n",
    "        # 职业生涯寿命\n",
    "        # authorstartyear = int(sorted(publist.items())[0][0])\n",
    "        # for i in range(StartYear,EndYear+1):\n",
    "        #     if author not in author_year_careerLength:\n",
    "        #         author_year_careerLength[author]={i:i-authorstartyear}\n",
    "        #     else:\n",
    "        #         author_year_careerLength[author][i] = i-authorstartyear\n",
    "        # 作者当年跨学科程度的百分位数（平均数）\n",
    "        for year, yearPublist in publist.items():\n",
    "            year = int(year)\n",
    "            if StartYear-1< year < EndYear+1:\n",
    "                if author not in author_year_IDRpercentile:\n",
    "                    author_year_IDRpercentile[author]={year:paperavgIDR((yearPublist['rank1']+yearPublist['others']+yearPublist['rankLast']),year)}\n",
    "                else:\n",
    "                    author_year_IDRpercentile[author][year] = paperavgIDR((yearPublist['rank1']+yearPublist['others']+yearPublist['rankLast']),year)\n",
    "                if author not in author_year_totalreferences:\n",
    "                    author_year_totalreferences[author] = {year:refsum(yearPublist['rank1']+yearPublist['others']+yearPublist['rankLast'])}\n",
    "                else:\n",
    "                    author_year_totalreferences[author][year] = refsum(yearPublist['rank1']+yearPublist['others']+yearPublist['rankLast'])"
   ]
  },
  {
   "cell_type": "code",
   "execution_count": null,
   "metadata": {},
   "outputs": [],
   "source": [
    "# author_year_totalreferences\n",
    "# author_year_IDRpercentile\n",
    "# author_year_careerLength\n",
    "pk.dump(author_year_totalreferences,open('../../DataCrossBoundaryPerspective_InterdisciplinaryResearch/author_year_totalreferences.pk', 'wb'))\n",
    "pk.dump(author_year_IDRpercentile,open('../../DataCrossBoundaryPerspective_InterdisciplinaryResearch/author_year_IDRpercentile.pk', 'wb'))\n",
    "# pk.dump(author_year_careerLength,open('../../DataCrossBoundaryPerspective_InterdisciplinaryResearch/author_year_careerLength.pk', 'wb'))"
   ]
  }
 ],
 "metadata": {
  "kernelspec": {
   "display_name": "py38j",
   "language": "python",
   "name": "python3"
  },
  "language_info": {
   "codemirror_mode": {
    "name": "ipython",
    "version": 3
   },
   "file_extension": ".py",
   "mimetype": "text/x-python",
   "name": "python",
   "nbconvert_exporter": "python",
   "pygments_lexer": "ipython3",
   "version": "3.8.13"
  },
  "orig_nbformat": 4
 },
 "nbformat": 4,
 "nbformat_minor": 2
}
