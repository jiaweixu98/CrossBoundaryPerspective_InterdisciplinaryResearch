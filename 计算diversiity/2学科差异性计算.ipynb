{
 "cells": [
  {
   "cell_type": "code",
   "execution_count": 13,
   "metadata": {},
   "outputs": [],
   "source": [
    "import numpy as np\n",
    "import pickle as pk\n",
    "# 学科对应，如果使用mag level 0分类，这里需要简单调整\n",
    "index_map = {'医学': 0,\n",
    " '工程技术': 1,\n",
    " '生物学': 2,\n",
    " '化学': 3,\n",
    " '物理与天体物理': 4,\n",
    " '农林科学': 5,\n",
    " '材料科学': 6,\n",
    " '计算机科学': 7,\n",
    " '环境科学与生态学': 8,\n",
    " '地球科学': 9,\n",
    " '心理学': 10,\n",
    " '数学': 11,\n",
    " '法学': 12,\n",
    " '经济学': 13,\n",
    " '管理学': 14,\n",
    " '人文科学': 15,\n",
    " '教育学': 16,\n",
    " '综合性期刊':17}\n",
    "# 读入学科互引矩阵\n",
    "citationMatrix3D = pk.load(open('citationMatrix3D.pk', 'rb'))\n",
    "# t年学科i和j相似度矩阵，默认相似度是0\n",
    "SijtMatrix = np.zeros((2022, 18, 18))"
   ]
  },
  {
   "cell_type": "code",
   "execution_count": 2,
   "metadata": {},
   "outputs": [],
   "source": [
    "# 定义cosine similarity\n",
    "from numpy import dot\n",
    "from numpy.linalg import norm\n",
    "def cos_similarity(a, b):\n",
    "    return dot(a, b)/(norm(a)*norm(b))"
   ]
  },
  {
   "cell_type": "code",
   "execution_count": 3,
   "metadata": {},
   "outputs": [
    {
     "name": "stderr",
     "output_type": "stream",
     "text": [
      "C:\\Users\\jiawei\\AppData\\Local\\Temp\\ipykernel_30564\\748437928.py:5: RuntimeWarning: invalid value encountered in double_scalars\n",
      "  return dot(a, b)/(norm(a)*norm(b))\n"
     ]
    }
   ],
   "source": [
    "# 从学科互引矩阵，得到学科间的相似度\n",
    "for t in range(1800,2022):\n",
    "    for i in range(18):\n",
    "        for j in range(18):\n",
    "            # 如果是来自同一个学科，自然相似度为1。此部操作防止早年没有被引量，将同一个学科的相似度计算为nan\n",
    "            if i == j:\n",
    "                SijtMatrix[t][i][j] = 1\n",
    "            # 其他基于被引的情况计算\n",
    "            else:\n",
    "                SijtMatrix[t][i][j] = cos_similarity(citationMatrix3D[t][:,i],citationMatrix3D[t][:,j])\n",
    "# nan转换为0，即完全不相似\n",
    "SijtMatrix = np.nan_to_num(SijtMatrix)"
   ]
  },
  {
   "cell_type": "code",
   "execution_count": 9,
   "metadata": {},
   "outputs": [],
   "source": [
    "# 将相似度矩阵转化为差异性矩阵\n",
    "DijtMatrix = np.zeros((2022, 18, 18))\n",
    "for t in range(1800,2022):\n",
    "    for i in range(18):\n",
    "        for j in range(18):\n",
    "            DijtMatrix[t][i][j] = 1 - SijtMatrix[t][i][j]"
   ]
  },
  {
   "cell_type": "code",
   "execution_count": 6,
   "metadata": {},
   "outputs": [],
   "source": [
    "# 把这两个矩阵都存下来\n",
    "pk.dump(SijtMatrix, open('SijtMatrix.pk', 'wb'))\n",
    "pk.dump(DijtMatrix, open('DataCrossBoundaryPerspective_InterdisciplinaryResearch/DijtMatrix.pk', 'wb'))"
   ]
  }
 ],
 "metadata": {
  "kernelspec": {
   "display_name": "base",
   "language": "python",
   "name": "python3"
  },
  "language_info": {
   "codemirror_mode": {
    "name": "ipython",
    "version": 3
   },
   "file_extension": ".py",
   "mimetype": "text/x-python",
   "name": "python",
   "nbconvert_exporter": "python",
   "pygments_lexer": "ipython3",
   "version": "3.9.13"
  },
  "orig_nbformat": 4
 },
 "nbformat": 4,
 "nbformat_minor": 2
}
