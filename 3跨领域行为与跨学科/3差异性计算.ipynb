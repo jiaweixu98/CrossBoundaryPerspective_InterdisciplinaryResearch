{
 "cells": [
  {
   "cell_type": "code",
   "execution_count": 13,
   "metadata": {},
   "outputs": [],
   "source": [
    "import numpy as np\n",
    "import pickle as pk\n",
    "# 学科对应\n",
    "index_map = {'医学': 0,\n",
    " '工程技术': 1,\n",
    " '生物学': 2,\n",
    " '化学': 3,\n",
    " '物理与天体物理': 4,\n",
    " '农林科学': 5,\n",
    " '材料科学': 6,\n",
    " '计算机科学': 7,\n",
    " '环境科学与生态学': 8,\n",
    " '地球科学': 9,\n",
    " '心理学': 10,\n",
    " '数学': 11,\n",
    " '法学': 12,\n",
    " '经济学': 13,\n",
    " '管理学': 14,\n",
    " '人文科学': 15,\n",
    " '教育学': 16,\n",
    " '综合性期刊':17}\n",
    "citationMatrix3D = pk.load(open('../../DataCrossBoundaryPerspective_InterdisciplinaryResearch/citationMatrix3D.pk', 'rb'))\n",
    "# t年学科i和j相似度矩阵，默认相似度是0\n",
    "SijtMatrix = np.zeros((2022, 18, 18))"
   ]
  },
  {
   "cell_type": "code",
   "execution_count": 2,
   "metadata": {},
   "outputs": [],
   "source": [
    "# cosine similarity\n",
    "from numpy import dot\n",
    "from numpy.linalg import norm\n",
    "def cos_similarity(a, b):\n",
    "    return dot(a, b)/(norm(a)*norm(b))"
   ]
  },
  {
   "cell_type": "code",
   "execution_count": 3,
   "metadata": {},
   "outputs": [
    {
     "name": "stderr",
     "output_type": "stream",
     "text": [
      "C:\\Users\\jiawei\\AppData\\Local\\Temp\\ipykernel_30564\\748437928.py:5: RuntimeWarning: invalid value encountered in double_scalars\n",
      "  return dot(a, b)/(norm(a)*norm(b))\n"
     ]
    }
   ],
   "source": [
    "for t in range(1800,2022):\n",
    "    for i in range(18):\n",
    "        for j in range(18):\n",
    "            # 如果是来自同一个学科，自然相似度为1。此部操作防止早年没有被引量，将同一个学科的相似度计算为nan\n",
    "            if i == j:\n",
    "                SijtMatrix[t][i][j] = 1\n",
    "            # 其他基于被引的情况计算\n",
    "            else:\n",
    "                SijtMatrix[t][i][j] = cos_similarity(citationMatrix3D[t][:,i],citationMatrix3D[t][:,j])"
   ]
  },
  {
   "cell_type": "code",
   "execution_count": 4,
   "metadata": {},
   "outputs": [],
   "source": [
    "# nan转换为0，即完全不相似\n",
    "SijtMatrix = np.nan_to_num(SijtMatrix)"
   ]
  },
  {
   "cell_type": "code",
   "execution_count": 9,
   "metadata": {},
   "outputs": [],
   "source": [
    "DijtMatrix = np.zeros((2022, 18, 18))\n",
    "for t in range(1800,2022):\n",
    "    for i in range(18):\n",
    "        for j in range(18):\n",
    "            DijtMatrix[t][i][j] = 1 - SijtMatrix[t][i][j]"
   ]
  },
  {
   "cell_type": "code",
   "execution_count": 12,
   "metadata": {},
   "outputs": [
    {
     "data": {
      "text/plain": [
       "array([[[0.        , 0.        , 0.        , ..., 0.        ,\n",
       "         0.        , 0.        ],\n",
       "        [0.        , 0.        , 0.        , ..., 0.        ,\n",
       "         0.        , 0.        ],\n",
       "        [0.        , 0.        , 0.        , ..., 0.        ,\n",
       "         0.        , 0.        ],\n",
       "        ...,\n",
       "        [0.        , 0.        , 0.        , ..., 0.        ,\n",
       "         0.        , 0.        ],\n",
       "        [0.        , 0.        , 0.        , ..., 0.        ,\n",
       "         0.        , 0.        ],\n",
       "        [0.        , 0.        , 0.        , ..., 0.        ,\n",
       "         0.        , 0.        ]],\n",
       "\n",
       "       [[0.        , 0.        , 0.        , ..., 0.        ,\n",
       "         0.        , 0.        ],\n",
       "        [0.        , 0.        , 0.        , ..., 0.        ,\n",
       "         0.        , 0.        ],\n",
       "        [0.        , 0.        , 0.        , ..., 0.        ,\n",
       "         0.        , 0.        ],\n",
       "        ...,\n",
       "        [0.        , 0.        , 0.        , ..., 0.        ,\n",
       "         0.        , 0.        ],\n",
       "        [0.        , 0.        , 0.        , ..., 0.        ,\n",
       "         0.        , 0.        ],\n",
       "        [0.        , 0.        , 0.        , ..., 0.        ,\n",
       "         0.        , 0.        ]],\n",
       "\n",
       "       [[0.        , 0.        , 0.        , ..., 0.        ,\n",
       "         0.        , 0.        ],\n",
       "        [0.        , 0.        , 0.        , ..., 0.        ,\n",
       "         0.        , 0.        ],\n",
       "        [0.        , 0.        , 0.        , ..., 0.        ,\n",
       "         0.        , 0.        ],\n",
       "        ...,\n",
       "        [0.        , 0.        , 0.        , ..., 0.        ,\n",
       "         0.        , 0.        ],\n",
       "        [0.        , 0.        , 0.        , ..., 0.        ,\n",
       "         0.        , 0.        ],\n",
       "        [0.        , 0.        , 0.        , ..., 0.        ,\n",
       "         0.        , 0.        ]],\n",
       "\n",
       "       ...,\n",
       "\n",
       "       [[0.        , 0.881935  , 0.42071219, ..., 0.87550962,\n",
       "         0.70864394, 0.20741526],\n",
       "        [0.881935  , 0.        , 0.82536755, ..., 0.95920101,\n",
       "         0.95124828, 0.66554107],\n",
       "        [0.42071219, 0.82536755, 0.        , ..., 0.91758404,\n",
       "         0.84465557, 0.12293992],\n",
       "        ...,\n",
       "        [0.87550962, 0.95920101, 0.91758404, ..., 0.        ,\n",
       "         0.81074687, 0.87005507],\n",
       "        [0.70864394, 0.95124828, 0.84465557, ..., 0.81074687,\n",
       "         0.        , 0.75910046],\n",
       "        [0.20741526, 0.66554107, 0.12293992, ..., 0.87005507,\n",
       "         0.75910046, 0.        ]],\n",
       "\n",
       "       [[0.        , 0.877101  , 0.39851321, ..., 0.86665315,\n",
       "         0.70599141, 0.20758462],\n",
       "        [0.877101  , 0.        , 0.81915255, ..., 0.95229735,\n",
       "         0.94232192, 0.63395705],\n",
       "        [0.39851321, 0.81915255, 0.        , ..., 0.90995091,\n",
       "         0.83374863, 0.12474469],\n",
       "        ...,\n",
       "        [0.86665315, 0.95229735, 0.90995091, ..., 0.        ,\n",
       "         0.79267089, 0.85660588],\n",
       "        [0.70599141, 0.94232192, 0.83374863, ..., 0.79267089,\n",
       "         0.        , 0.74734769],\n",
       "        [0.20758462, 0.63395705, 0.12474469, ..., 0.85660588,\n",
       "         0.74734769, 0.        ]],\n",
       "\n",
       "       [[0.        , 0.87451252, 0.39845439, ..., 0.86553719,\n",
       "         0.69787078, 0.20639794],\n",
       "        [0.87451252, 0.        , 0.81553965, ..., 0.95293381,\n",
       "         0.9413416 , 0.60144884],\n",
       "        [0.39845439, 0.81553965, 0.        , ..., 0.91008849,\n",
       "         0.83153018, 0.13123771],\n",
       "        ...,\n",
       "        [0.86553719, 0.95293381, 0.91008849, ..., 0.        ,\n",
       "         0.78571769, 0.8555773 ],\n",
       "        [0.69787078, 0.9413416 , 0.83153018, ..., 0.78571769,\n",
       "         0.        , 0.73937729],\n",
       "        [0.20639794, 0.60144884, 0.13123771, ..., 0.8555773 ,\n",
       "         0.73937729, 0.        ]]])"
      ]
     },
     "execution_count": 12,
     "metadata": {},
     "output_type": "execute_result"
    }
   ],
   "source": [
    "DijtMatrix"
   ]
  },
  {
   "cell_type": "code",
   "execution_count": 6,
   "metadata": {},
   "outputs": [],
   "source": [
    "# pk.dump(SijtMatrix, open('../../DataCrossBoundaryPerspective_InterdisciplinaryResearch/SijtMatrix.pk', 'wb'))"
   ]
  },
  {
   "cell_type": "code",
   "execution_count": 11,
   "metadata": {},
   "outputs": [],
   "source": [
    "# pk.dump(DijtMatrix, open('../../DataCrossBoundaryPerspective_InterdisciplinaryResearch/DijtMatrix.pk', 'wb'))"
   ]
  }
 ],
 "metadata": {
  "kernelspec": {
   "display_name": "base",
   "language": "python",
   "name": "python3"
  },
  "language_info": {
   "codemirror_mode": {
    "name": "ipython",
    "version": 3
   },
   "file_extension": ".py",
   "mimetype": "text/x-python",
   "name": "python",
   "nbconvert_exporter": "python",
   "pygments_lexer": "ipython3",
   "version": "3.9.13"
  },
  "orig_nbformat": 4
 },
 "nbformat": 4,
 "nbformat_minor": 2
}
