{
 "cells": [
  {
   "attachments": {},
   "cell_type": "markdown",
   "metadata": {},
   "source": [
    "先设置一个v1版本的DiD数据；这个面板数据是否合理？\n",
    "处理效应相关：\n",
    "\n",
    "author_istreat\n",
    "\n",
    "author_treatyear\n",
    "\n",
    "\n",
    "因变量\n",
    "author_year_allpubNum\n",
    "\n",
    "author_year_allpubAVGCollaboratorsNum\n",
    "\n",
    "author_year_allpuball5yearcitationNum\n",
    "\n",
    "author_year_allpubAVG5yearcitationNum\n",
    "\n",
    "author_year_allpuballCollaboratorsNum\n",
    "\n",
    "协变量\n",
    "author_year_careerLength\n",
    "\n",
    "author_year_IDRpercentile\n",
    "\n",
    "author_year_totalreferences\n",
    "\n",
    "author_year_AVGreferences\n",
    "\n",
    "\n",
    "author_year_cumuCitationNumLagged1\n",
    "\n",
    "author_year_cumuPaperNumLagged1\n",
    "\n",
    "author_year_cumuCollaboratorNumLagged1"
   ]
  },
  {
   "cell_type": "code",
   "execution_count": 76,
   "metadata": {},
   "outputs": [],
   "source": [
    "import pickle as pk\n",
    "# treatment\n",
    "author_istreat = pk.load(open('../../DataCrossBoundaryPerspective_InterdisciplinaryResearch/author_istreat.pk', 'rb'))\n",
    "author_treatyear = pk.load(open('../../DataCrossBoundaryPerspective_InterdisciplinaryResearch/author_treatyear.pk', 'rb'))"
   ]
  },
  {
   "cell_type": "code",
   "execution_count": 77,
   "metadata": {},
   "outputs": [],
   "source": [
    "def zero_filler(a_dict):\n",
    "    for k,v in a_dict.items():\n",
    "        for year in range(2005,2016):\n",
    "            if year not in v:\n",
    "                a_dict[k][year] =0"
   ]
  },
  {
   "cell_type": "code",
   "execution_count": 78,
   "metadata": {},
   "outputs": [],
   "source": [
    "# 核心因变量\n",
    "# 需要补充0\n",
    "author_year_allpubNum = pk.load(open('../../DataCrossBoundaryPerspective_InterdisciplinaryResearch/author_year_allpubNum.pk', 'rb'))\n",
    "zero_filler(author_year_allpubNum)\n",
    "# 需要补充0\n",
    "author_year_allpuball5yearcitationNum = pk.load(open('../../DataCrossBoundaryPerspective_InterdisciplinaryResearch/author_year_allpuball5yearcitationNum.pk', 'rb'))\n",
    "zero_filler(author_year_allpuball5yearcitationNum)\n",
    "# 需要补充0\n",
    "author_year_allpuballCollaboratorsNum = pk.load(open('../../DataCrossBoundaryPerspective_InterdisciplinaryResearch/author_year_allpuballCollaboratorsNum.pk', 'rb'))\n",
    "zero_filler(author_year_allpuballCollaboratorsNum)"
   ]
  },
  {
   "cell_type": "code",
   "execution_count": 79,
   "metadata": {},
   "outputs": [],
   "source": [
    "# 协变量\n",
    "# 平衡数据\n",
    "author_year_careerLength = pk.load(open('../../DataCrossBoundaryPerspective_InterdisciplinaryResearch/author_year_careerLength.pk', 'rb'))\n",
    "# 需要补充0【没有发文，跨学科程度设置为0？】\n",
    "author_year_IDRpercentile = pk.load(open('../../DataCrossBoundaryPerspective_InterdisciplinaryResearch/author_year_IDRpercentile.pk', 'rb'))\n",
    "zero_filler(author_year_IDRpercentile)\n",
    "# 总参考文献数，需要补充0\n",
    "author_year_totalreferences = pk.load(open('../../DataCrossBoundaryPerspective_InterdisciplinaryResearch/author_year_totalreferences.pk', 'rb'))\n",
    "zero_filler(author_year_totalreferences)"
   ]
  },
  {
   "cell_type": "code",
   "execution_count": 80,
   "metadata": {},
   "outputs": [],
   "source": [
    "# 待计算\n",
    "# 总被引量/总篇数即为平均被引量\n",
    "author_year_allpubAVG5yearcitationNum = {}\n",
    "# 除以总篇数即为平均团队规模\n",
    "author_year_allpubAVGCollaboratorsNum = {}\n",
    "# 滞后一期的累计被引量\n",
    "author_year_cumuCitationNumLagged1 = {}\n",
    "# 滞后一期的累计发文数\n",
    "author_year_cumuPaperNumLagged1 = {}\n",
    "# 滞后一期的累计合作者人次\n",
    "author_year_cumuCollaboratorNumLagged1 = {}\n",
    "#做一个除法可以得到平均参考文献数量\n",
    "author_year_AVGreferences = {}"
   ]
  },
  {
   "cell_type": "code",
   "execution_count": 81,
   "metadata": {},
   "outputs": [],
   "source": [
    "# 文章平均被引量\n",
    "for au,year_citation in author_year_allpuball5yearcitationNum.items():\n",
    "    author_year_allpubAVG5yearcitationNum[au] ={}\n",
    "    for year in range(2005,2016):\n",
    "        if author_year_allpubNum[au][year] == 0:\n",
    "            author_year_allpubAVG5yearcitationNum[au][year] = 0\n",
    "        else:\n",
    "            author_year_allpubAVG5yearcitationNum[au][year] = year_citation[year]/author_year_allpubNum[au][year]"
   ]
  },
  {
   "cell_type": "code",
   "execution_count": 82,
   "metadata": {},
   "outputs": [],
   "source": [
    "# 平均团队规模\n",
    "for au,year_coauthor in author_year_allpuballCollaboratorsNum.items():\n",
    "    author_year_allpubAVGCollaboratorsNum[au] ={}\n",
    "    for year in range(2005,2016):\n",
    "        if author_year_allpubNum[au][year] == 0:\n",
    "            author_year_allpubAVGCollaboratorsNum[au][year] = 0\n",
    "        else:\n",
    "            author_year_allpubAVGCollaboratorsNum[au][year] = year_coauthor[year]/author_year_allpubNum[au][year]"
   ]
  },
  {
   "cell_type": "code",
   "execution_count": 83,
   "metadata": {},
   "outputs": [],
   "source": [
    "# 平均参考文献数量\n",
    "for au,year_refs in author_year_totalreferences.items():\n",
    "    author_year_AVGreferences[au] ={}\n",
    "    for year in range(2005,2016):\n",
    "        if author_year_allpubNum[au][year] == 0:\n",
    "            author_year_AVGreferences[au][year] = 0\n",
    "        else:\n",
    "            author_year_AVGreferences[au][year] = year_refs[year]/author_year_allpubNum[au][year]"
   ]
  },
  {
   "cell_type": "code",
   "execution_count": 84,
   "metadata": {},
   "outputs": [],
   "source": [
    "# 滞后一期的累计被引量\n",
    "# 这个是每年的被引量\n",
    "for author, year_citation in author_year_allpuball5yearcitationNum.items():\n",
    "    author_year_cumuCitationNumLagged1[author] = {2005:0}\n",
    "    laggedCumu = 0\n",
    "    for year in range(2005,2015): # 2015年的被引量不会被算到lagged里面\n",
    "        laggedCumu += year_citation[year]\n",
    "        author_year_cumuCitationNumLagged1[author][year+1] = laggedCumu"
   ]
  },
  {
   "cell_type": "code",
   "execution_count": 85,
   "metadata": {},
   "outputs": [],
   "source": [
    "# 滞后一期的累计发文量\n",
    "# 这个是每年的发文量\n",
    "for author, year_pub in author_year_allpubNum.items():\n",
    "    author_year_cumuPaperNumLagged1[author] = {2005:0}\n",
    "    laggedCumu = 0\n",
    "    for year in range(2005,2015): # 2015年的发文量不会被算到lagged里面\n",
    "        laggedCumu += year_pub[year]\n",
    "        author_year_cumuPaperNumLagged1[author][year+1] = laggedCumu"
   ]
  },
  {
   "cell_type": "code",
   "execution_count": 86,
   "metadata": {},
   "outputs": [],
   "source": [
    "# 滞后一期的累计合作者 author_year_cumuCollaboratorNumLagged1\n",
    "# 这个是每年的合作者\n",
    "for author, year_colab in author_year_allpuballCollaboratorsNum.items():\n",
    "    author_year_cumuCollaboratorNumLagged1[author] = {2005:0}\n",
    "    laggedCumu = 0\n",
    "    for year in range(2005,2015): # 2015年的发文量不会被算到lagged里面\n",
    "        laggedCumu += year_colab[year]\n",
    "        author_year_cumuCollaboratorNumLagged1[author][year+1] = laggedCumu"
   ]
  },
  {
   "attachments": {},
   "cell_type": "markdown",
   "metadata": {},
   "source": [
    "我们有15个变量"
   ]
  },
  {
   "cell_type": "code",
   "execution_count": null,
   "metadata": {},
   "outputs": [],
   "source": [
    "author_istreat\n",
    "\n",
    "author_treatyear\n",
    "\n",
    "# 因变量\n",
    "author_year_allpubNum\n",
    "\n",
    "author_year_allpubAVGCollaboratorsNum\n",
    "\n",
    "author_year_allpuball5yearcitationNum\n",
    "\n",
    "author_year_allpubAVG5yearcitationNum\n",
    "\n",
    "author_year_allpuballCollaboratorsNum\n",
    "\n",
    "# 协变量\n",
    "author_year_careerLength\n",
    "\n",
    "author_year_IDRpercentile\n",
    "\n",
    "author_year_totalreferences\n",
    "\n",
    "author_year_AVGreferences\n",
    "\n",
    "author_year_cumuCitationNumLagged1\n",
    "\n",
    "author_year_cumuPaperNumLagged1\n",
    "\n",
    "author_year_cumuCollaboratorNumLagged1"
   ]
  },
  {
   "cell_type": "code",
   "execution_count": null,
   "metadata": {},
   "outputs": [],
   "source": [
    "print('authorID,'+'year,'+'treat,'+'firstTreat,'+'pubNum,'+'all5yearCitationNum,'+'avg5yearCitationNum,'+'allColabNum,'+'avgColabNum,'+'creerLength,'+'avgIDRpercentile,'+'totalRefs,'+'avgRefs,'+'CumuCitationLagged,'+'CumuPaperNumLagged,'+'CumuColabLagged')\n",
    "for author in author_istreat.keys():\n",
    "    for year in range(2005,2016):\n",
    "        print(author+','+str(year)+','+str(author_istreat[author])+','+str(author_treatyear[author])+','+str(author_year_allpubNum[author][year])+','+str(author_year_allpuball5yearcitationNum[author][year])+','+str(author_year_allpubAVG5yearcitationNum[author][year])+','+str(author_year_allpuballCollaboratorsNum[author][year])+','+str(author_year_allpubAVGCollaboratorsNum[author][year])+','+str(author_year_careerLength[author][year])+','+str(author_year_IDRpercentile[author][year])+','+str(author_year_totalreferences[author][year])+','+str(author_year_AVGreferences[author][year])+','+str(author_year_cumuCitationNumLagged1[author][year])+','+str(author_year_cumuPaperNumLagged1[author][year])+','+str(author_year_cumuCollaboratorNumLagged1[author][year]))"
   ]
  },
  {
   "cell_type": "code",
   "execution_count": 91,
   "metadata": {},
   "outputs": [
    {
     "data": {
      "text/plain": [
       "2584"
      ]
     },
     "execution_count": 91,
     "metadata": {},
     "output_type": "execute_result"
    }
   ],
   "source": []
  }
 ],
 "metadata": {
  "kernelspec": {
   "display_name": "base",
   "language": "python",
   "name": "python3"
  },
  "language_info": {
   "codemirror_mode": {
    "name": "ipython",
    "version": 3
   },
   "file_extension": ".py",
   "mimetype": "text/x-python",
   "name": "python",
   "nbconvert_exporter": "python",
   "pygments_lexer": "ipython3",
   "version": "3.9.13"
  },
  "orig_nbformat": 4
 },
 "nbformat": 4,
 "nbformat_minor": 2
}
