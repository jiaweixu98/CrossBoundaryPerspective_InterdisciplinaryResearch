{
 "cells": [
  {
   "cell_type": "code",
   "execution_count": 1,
   "metadata": {},
   "outputs": [],
   "source": [
    "import pickle as pk\n",
    "# treatment\n",
    "author_istreat = pk.load(open('../../DataCrossBoundaryPerspective_InterdisciplinaryResearch/author_istreat.pk', 'rb'))\n",
    "author_treatyear = pk.load(open('../../DataCrossBoundaryPerspective_InterdisciplinaryResearch/author_treatyear.pk', 'rb'))"
   ]
  },
  {
   "cell_type": "code",
   "execution_count": 5,
   "metadata": {},
   "outputs": [],
   "source": [
    "# 核心因变量\n",
    "author_year_allpubNum = pk.load(open('../../DataCrossBoundaryPerspective_InterdisciplinaryResearch/author_year_allpubNum.pk', 'rb'))\n",
    "author_year_allpuball5yearcitationNum = pk.load(open('../../DataCrossBoundaryPerspective_InterdisciplinaryResearch/author_year_allpuball5yearcitationNum.pk', 'rb'))\n",
    "author_year_allpuballCollaboratorsNum = pk.load(open('../../DataCrossBoundaryPerspective_InterdisciplinaryResearch/author_year_allpuballCollaboratorsNum.pk', 'rb'))"
   ]
  },
  {
   "cell_type": "code",
   "execution_count": 9,
   "metadata": {},
   "outputs": [],
   "source": [
    "# 协变量\n",
    "author_year_careerLength = pk.load(open('../../DataCrossBoundaryPerspective_InterdisciplinaryResearch/author_year_careerLength.pk', 'rb'))\n",
    "author_year_IDRpercentile = pk.load(open('../../DataCrossBoundaryPerspective_InterdisciplinaryResearch/author_year_IDRpercentile.pk', 'rb'))\n",
    "author_year_totalreferences = pk.load(open('../../DataCrossBoundaryPerspective_InterdisciplinaryResearch/author_year_totalreferences.pk', 'rb'))"
   ]
  },
  {
   "cell_type": "code",
   "execution_count": null,
   "metadata": {},
   "outputs": [],
   "source": [
    "# 待计算\n",
    "# 总被引量/总篇数即为平均被引量\n",
    "author_year_allpubAVG5yearcitationNum = {}\n",
    "# 除以总篇数即为平均团队规模\n",
    "author_year_allpubAVGCollaboratorsNum = {}\n",
    "# 滞后一期的累计被引量\n",
    "author_year_cumuCitationNumLagged1 = {}\n",
    "# 滞后一期的累计发文数\n",
    "author_year_cumuPaperNumLagged1 = {}\n",
    "# 滞后一期的累计合作者人次\n",
    "author_year_cumuCollaboratorNumLagged1 = {}\n",
    "#做一个除法可以得到平均参考文献数量\n",
    "author_year_AVGreferences = {}"
   ]
  }
 ],
 "metadata": {
  "kernelspec": {
   "display_name": "base",
   "language": "python",
   "name": "python3"
  },
  "language_info": {
   "codemirror_mode": {
    "name": "ipython",
    "version": 3
   },
   "file_extension": ".py",
   "mimetype": "text/x-python",
   "name": "python",
   "nbconvert_exporter": "python",
   "pygments_lexer": "ipython3",
   "version": "3.9.13"
  },
  "orig_nbformat": 4
 },
 "nbformat": 4,
 "nbformat_minor": 2
}
